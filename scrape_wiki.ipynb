{
 "cells": [
  {
   "cell_type": "code",
   "execution_count": 171,
   "metadata": {
    "collapsed": true
   },
   "outputs": [],
   "source": [
    "from lxml import html\n",
    "from bs4 import BeautifulSoup\n",
    "import requests\n",
    "import re"
   ]
  },
  {
   "cell_type": "code",
   "execution_count": 172,
   "metadata": {
    "collapsed": true
   },
   "outputs": [],
   "source": [
    "main_url = 'https://ro.wikipedia.org'\n",
    "url = main_url + '/wiki/Categorie:Liste_de_localități_din_România'\n",
    "page = requests.get(url, timeout=1)"
   ]
  },
  {
   "cell_type": "code",
   "execution_count": 173,
   "metadata": {},
   "outputs": [],
   "source": [
    "# print(page.content)"
   ]
  },
  {
   "cell_type": "code",
   "execution_count": 174,
   "metadata": {},
   "outputs": [],
   "source": [
    "soup = BeautifulSoup(page.text, \"html.parser\")\n",
    "# print(soup.prettify)"
   ]
  },
  {
   "cell_type": "code",
   "execution_count": 175,
   "metadata": {},
   "outputs": [
    {
     "name": "stdout",
     "output_type": "stream",
     "text": [
      "41\n"
     ]
    }
   ],
   "source": [
    "all_links = soup.find_all(\"div\", class_=\"mw-category\")[0].find_all(\"a\")\n",
    "pages_links = []\n",
    "for l in all_links:\n",
    "    if \"județul\" in l.text:\n",
    "        pages_links.append(l.get(\"href\"))\n",
    "        \n",
    "print(len(pages_links))"
   ]
  },
  {
   "cell_type": "code",
   "execution_count": 176,
   "metadata": {},
   "outputs": [],
   "source": [
    "def parse_jud(soup_jud):\n",
    "    title = soup_jud.find(\"h1\", id=\"firstHeading\").text\n",
    "#     print(title)\n",
    "    jud_name = title.split(\"județul \", 1)[1]\n",
    "    return jud_name"
   ]
  },
  {
   "cell_type": "code",
   "execution_count": 177,
   "metadata": {
    "collapsed": true
   },
   "outputs": [],
   "source": [
    "# jud_url = \"https://ro.wikipedia.org/wiki/List%C4%83_de_localit%C4%83%C8%9Bi_din_jude%C8%9Bul_Satu_Mare\"\n",
    "# page_jud = requests.get(jud_url, timeout=1)\n",
    "# soup_jud = BeautifulSoup(page_jud.text, \"html.parser\")"
   ]
  },
  {
   "cell_type": "code",
   "execution_count": 178,
   "metadata": {},
   "outputs": [],
   "source": [
    "# title = soup_jud.find(\"h1\", id=\"firstHeading\").text\n",
    "# print(title)"
   ]
  },
  {
   "cell_type": "code",
   "execution_count": null,
   "metadata": {
    "collapsed": true
   },
   "outputs": [],
   "source": [
    "# jud = re.match(r'județul (\\w+)', title, re.I|re.M)"
   ]
  },
  {
   "cell_type": "code",
   "execution_count": null,
   "metadata": {},
   "outputs": [],
   "source": [
    "rows_list = []\n",
    "\n",
    "for jud_page in pages_links:\n",
    "    jud_url = main_url+jud_page\n",
    "    page_jud = requests.get(jud_url, timeout=1)\n",
    "    soup_jud = BeautifulSoup(page_jud.text, \"html.parser\")\n",
    "    jud_name = parse_jud(soup_jud)\n",
    "    tabl = soup_jud.find(\"table\", class_=\"wikitable sortable\")\n",
    "    for row in tabl.findAll(\"tr\"):\n",
    "        cell = row.find(\"td\")\n",
    "        if cell:\n",
    "            cell_link = cell.find(\"a\")\n",
    "            if cell_link:\n",
    "                nume_localitate = cell_link.text\n",
    "                rows_list.append({'Judet':jud_name, 'Localitate':nume_localitate})\n",
    "\n",
    "import pandas as pd\n",
    "x = pd.DataFrame(rows_list)\n",
    "print(x.size)\n"
   ]
  },
  {
   "cell_type": "code",
   "execution_count": null,
   "metadata": {},
   "outputs": [],
   "source": [
    "print(x.loc[13000:20000])"
   ]
  },
  {
   "cell_type": "code",
   "execution_count": null,
   "metadata": {
    "collapsed": true
   },
   "outputs": [],
   "source": [
    "x.to_csv(\"localitati_ro_big.csv\")"
   ]
  }
 ],
 "metadata": {
  "kernelspec": {
   "display_name": "Python 3",
   "language": "python",
   "name": "python3"
  },
  "language_info": {
   "codemirror_mode": {
    "name": "ipython",
    "version": 3
   },
   "file_extension": ".py",
   "mimetype": "text/x-python",
   "name": "python",
   "nbconvert_exporter": "python",
   "pygments_lexer": "ipython3",
   "version": "3.6.1"
  }
 },
 "nbformat": 4,
 "nbformat_minor": 2
}
